{
 "cells": [
  {
   "cell_type": "markdown",
   "metadata": {},
   "source": [
    "Запуск программы"
   ]
  },
  {
   "cell_type": "code",
   "execution_count": 3,
   "metadata": {},
   "outputs": [],
   "source": [
    "import numpy as np\n",
    "import pandas as pd\n",
    "import matplotlib.pyplot as plt\n",
    "import json "
   ]
  },
  {
   "cell_type": "code",
   "execution_count": 4,
   "metadata": {},
   "outputs": [],
   "source": [
    "import subprocess\n",
    "from pprint import pprint"
   ]
  },
  {
   "cell_type": "code",
   "execution_count": 5,
   "metadata": {},
   "outputs": [
    {
     "name": "stdout",
     "output_type": "stream",
     "text": [
      " \n"
     ]
    }
   ],
   "source": [
    "cmd = [f'mkdir -p bin; mkdir -p config; mkdir -p data; mkdir -p graphs']\n",
    "p = subprocess.Popen(cmd, shell=True, stdout=subprocess.PIPE, stderr=subprocess.PIPE)\n",
    "cout, cerr = p.communicate()\n",
    "print(cout.decode(), cerr.decode())"
   ]
  },
  {
   "cell_type": "code",
   "execution_count": null,
   "metadata": {},
   "outputs": [
    {
     "name": "stdout",
     "output_type": "stream",
     "text": [
      " \n"
     ]
    }
   ],
   "source": [
    "cmd = [f'g++ -o ./bin/oscill double_oscill.cpp']\n",
    "p = subprocess.Popen(cmd, shell=True, stdout=subprocess.PIPE, stderr=subprocess.PIPE)\n",
    "cout, cerr = p.communicate()\n",
    "print(cout.decode(), cerr.decode())"
   ]
  },
  {
   "cell_type": "markdown",
   "metadata": {},
   "source": [
    "Входные данные симулятора\n"
   ]
  },
  {
   "cell_type": "code",
   "execution_count": 270,
   "metadata": {},
   "outputs": [],
   "source": [
    "#setup config\n",
    "cpp_config_path = \"config/config.json\"\n",
    "config_data = {}\n",
    "\n",
    "config_data['m'] = 1 #масса груза\n",
    "config_data['omega'] = 7.23 #циклическая частота колебаний нижнего рычага\n",
    "config_data['amp'] = 0.1 # амплитуда колебаний нижнего рычага\n",
    "\n",
    "config_data['phi'] = config_data['amp']\n",
    "config_data['psi'] = 0.2 # угол отклонения маятника от вертикали\n",
    "config_data['vel_phi'] = 0\n",
    "config_data['vel_psi'] = 0\n",
    "\n",
    "config_data['time_div'] = 0.04 # шаг по времени алгоритма\n",
    "config_data['time_begin'] = 0\n",
    "config_data['time_end'] = 200\n",
    "\n",
    "config_data['m1'] = 0.1\n",
    "config_data['m2'] = 1\n",
    "config_data['l1'] = 200 # длина нижнего рычага\n",
    "config_data['l2'] = 100 # длина подвеса маятника\n",
    "config_data['g'] = 100 # напряженность внешнего силового поля\n",
    "\n",
    "config_data['outfile'] = \"data/data1.csv\"\n",
    "config_data['method'] = \"rk4\"\n",
    "config_data['type'] = \"kapitza\"\n",
    "config_data['dump'] = 1"
   ]
  },
  {
   "cell_type": "markdown",
   "metadata": {},
   "source": [
    "Запуск рассчета"
   ]
  },
  {
   "cell_type": "code",
   "execution_count": 271,
   "metadata": {},
   "outputs": [
    {
     "name": "stdout",
     "output_type": "stream",
     "text": [
      " b''\n"
     ]
    }
   ],
   "source": [
    "with open(cpp_config_path, 'w') as outfile:\n",
    "    json.dump(config_data, outfile)\n",
    "cmd = [f'./bin/oscill {cpp_config_path}']\n",
    "p = subprocess.Popen(cmd, shell=True, stdout=subprocess.PIPE, stderr=subprocess.PIPE)\n",
    "cout, cerr = p.communicate()\n",
    "print(cout.decode(), cerr)"
   ]
  },
  {
   "cell_type": "markdown",
   "metadata": {},
   "source": [
    "эта часть в работе не используется"
   ]
  },
  {
   "cell_type": "code",
   "execution_count": 272,
   "metadata": {},
   "outputs": [],
   "source": [
    "# df = pd.read_csv(config_data['outfile'])\n",
    "\n",
    "# fig, ax = plt.subplots()\n",
    "\n",
    "# ax.scatter(np.sin(df['psi']), -np.cos(df['psi']), color = 'r', label = 'euler', s = 1)\n",
    "# ax.scatter(np.sin(df['phi']) + np.sin(df['psi']), -np.cos(df['psi'])- np.cos(df['psi']), s = 1)\n",
    "\n",
    "# ax.set_xlabel('time')\n",
    "# ax.set_ylabel('crd')\n",
    "# ax.set_title(f'driven force')\n",
    "# fig.tight_layout()\n",
    "# ax.legend()\n",
    "# fig.savefig(f'graphs/driven_force.png')"
   ]
  },
  {
   "cell_type": "code",
   "execution_count": null,
   "metadata": {},
   "outputs": [],
   "source": []
  },
  {
   "cell_type": "markdown",
   "metadata": {},
   "source": [
    "Двойной маятник"
   ]
  },
  {
   "cell_type": "code",
   "execution_count": 273,
   "metadata": {},
   "outputs": [],
   "source": [
    "# import pygame\n",
    " \n",
    "# pygame.init()\n",
    " \n",
    "# white = (255, 255, 255)\n",
    "# black = (0, 0, 0)\n",
    "# red = (255, 0, 0)\n",
    "# blue = (0, 0, 255)\n",
    " \n",
    "# dis = pygame.display.set_mode((600, 600))\n",
    " \n",
    "# game_over = False\n",
    "# clock = pygame.time.Clock()\n",
    "# pygame.display.set_caption('Oscillator')\n",
    " \n",
    "\n",
    "# df1 = pd.read_csv(\"data/data1.csv\")\n",
    "# #df2 = pd.read_csv(\"data/data2.csv\")\n",
    "# dis.fill(white)\n",
    "# for i in range(len(df1)):\n",
    "#     for event in pygame.event.get():\n",
    "#         if event.type == pygame.QUIT:\n",
    "#             game_over = True\n",
    "#     l1 = config_data['l1']\n",
    "#     l2 = config_data['l2']\n",
    "#     x1 = np.sin(df1['phi'][i]) * l1\n",
    "#     y1 = -np.cos(df1['phi'][i]) * l1\n",
    "#     x2 = np.sin(df1['phi'][i]) * l1 + np.sin(df1['psi'][i]) * l2\n",
    "#     y2 = -np.cos(df1['phi'][i]) * l1- np.cos(df1['psi'][i]) * l2\n",
    "#     x1 += 300\n",
    "#     x2 += 300\n",
    "#     y1 += 300\n",
    "#     y2 += 300\n",
    "    \n",
    "#     # x12 = np.sin(df2['phi'][i]) * l1\n",
    "#     # y12 = -np.cos(df2['phi'][i]) * l1\n",
    "#     # x22 = np.sin(df2['phi'][i]) * l1 + np.sin(df2['psi'][i]) * l2\n",
    "#     # y22 = -np.cos(df2['phi'][i]) * l1- np.cos(df2['psi'][i]) * l2\n",
    "#     # x12 += 300\n",
    "#     # x22 += 300\n",
    "#     # y12 += 300\n",
    "#     # y22 += 300\n",
    "#     dis.fill(white)\n",
    "#     pygame.draw.circle(dis, red, (x1, y1), 2)\n",
    "#     pygame.draw.circle(dis, red, (x2, y2), 2)\n",
    "#     pygame.draw.line(dis, red, (x1, y1), (x2, y2), 5)\n",
    "#     pygame.draw.line(dis, red, (300, 300), (x1, y1), 5)\n",
    "\n",
    "#     #pygame.draw.circle(dis, blue, (x12, y12), 2)\n",
    "#     #pygame.draw.circle(dis, blue, (x22, y22), 2)\n",
    "#     #pygame.draw.line(dis, blue, (x12, y12), (x22, y22), 5)\n",
    "#     #pygame.draw.line(dis, blue, (300, 300), (x12, y12), 5)\n",
    "\n",
    "#     pygame.display.update()\n",
    "#     clock.tick(100)\n",
    "#     if game_over:\n",
    "#         break\n",
    "\n",
    "# pygame.quit()"
   ]
  },
  {
   "cell_type": "markdown",
   "metadata": {},
   "source": [
    "Маятник Капицы. Визуализация"
   ]
  },
  {
   "cell_type": "code",
   "execution_count": 274,
   "metadata": {},
   "outputs": [],
   "source": [
    "import pygame\n",
    " \n",
    "pygame.init()\n",
    " \n",
    "white = (255, 255, 255)\n",
    "black = (0, 0, 0)\n",
    "red = (255, 0, 0)\n",
    "blue = (0, 0, 255)\n",
    " \n",
    "dis = pygame.display.set_mode((600, 600))\n",
    " \n",
    "game_over = False\n",
    "clock = pygame.time.Clock()\n",
    "pygame.display.set_caption('Kapitza\\'s oscillator')\n",
    " \n",
    "\n",
    "df = pd.read_csv(\"data/data1.csv\")\n",
    "for i in range(len(df)):\n",
    "    for event in pygame.event.get():\n",
    "        if event.type == pygame.QUIT:\n",
    "            game_over = True\n",
    "    l1 = config_data['l1']\n",
    "    l2 = config_data['l2']\n",
    "    x1 = np.cos(df['phi'][i]) * l1\n",
    "    y1 = -np.sin(df['phi'][i]) * l1\n",
    "    x2 = np.cos(df['phi'][i]) * l1 - np.sin(df['psi'][i]) * l2\n",
    "    y2 = -(np.sin(df['phi'][i]) * l1 + np.cos(df['psi'][i]) * l2)\n",
    "    x1 += 300\n",
    "    x2 += 300\n",
    "    y1 += 300\n",
    "    y2 += 300\n",
    "    dis.fill(white)\n",
    "    pygame.draw.line(dis, red, (x1, y1), (x2, y2), 5)\n",
    "    pygame.draw.line(dis, red, (300, 300), (x1, y1), 5)\n",
    "    pygame.draw.circle(dis, black, (x1, y1), 5)\n",
    "    pygame.draw.circle(dis, black, (x2, y2), 5)\n",
    "    pygame.draw.circle(dis, black, (300, 300), 5)\n",
    "\n",
    "    pygame.display.update()\n",
    "    clock.tick(100)\n",
    "    if game_over:\n",
    "        break\n",
    "\n",
    "pygame.quit()"
   ]
  }
 ],
 "metadata": {
  "kernelspec": {
   "display_name": "Python 3",
   "language": "python",
   "name": "python3"
  },
  "language_info": {
   "codemirror_mode": {
    "name": "ipython",
    "version": 3
   },
   "file_extension": ".py",
   "mimetype": "text/x-python",
   "name": "python",
   "nbconvert_exporter": "python",
   "pygments_lexer": "ipython3",
   "version": "3.10.12"
  }
 },
 "nbformat": 4,
 "nbformat_minor": 2
}
